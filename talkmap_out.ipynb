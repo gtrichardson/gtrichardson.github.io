{
 "cells": [
  {
   "cell_type": "markdown",
   "metadata": {},
   "source": [
    "# Leaflet cluster map of talk locations\n",
    "\n",
    "Assuming you are working in a Linux or Windows Subsystem for Linux environment, you may need to install some dependencies. Assuming a clean installation, the following will be needed:\n",
    "\n",
    "```bash\n",
    "sudo apt install jupyter\n",
    "sudo apt install python3-pip\n",
    "pip install python-frontmatter getorg --upgrade\n",
    "```\n",
    "\n",
    "After which you can run this from the `_talks/` directory, via:\n",
    "\n",
    "```bash\n",
    " jupyter nbconvert --to notebook --execute talkmap.ipynb --output talkmap_out.ipynb\n",
    "```\n",
    " \n",
    "The `_talks/` directory contains `.md` files of all your talks. This scrapes the location YAML field from each `.md` file, geolocates it with `geopy/Nominatim`, and uses the `getorg` library to output data, HTML, and Javascript for a standalone cluster map."
   ]
  },
  {
   "cell_type": "code",
   "execution_count": 1,
   "metadata": {
    "collapsed": false,
    "execution": {
     "iopub.execute_input": "2025-02-26T03:36:06.769536Z",
     "iopub.status.busy": "2025-02-26T03:36:06.769131Z",
     "iopub.status.idle": "2025-02-26T03:36:07.934020Z",
     "shell.execute_reply": "2025-02-26T03:36:07.933257Z"
    }
   },
   "outputs": [
    {
     "name": "stdout",
     "output_type": "stream",
     "text": [
      "Looking in indexes: https://wci-repo.llnl.gov/repository/pypi-group/simple\n",
      "Requirement already satisfied: python-frontmatter in /g/g20/glenrich/miniconda3/envs/nexo/lib/python3.12/site-packages (1.1.0)\n",
      "Requirement already satisfied: getorg in /g/g20/glenrich/miniconda3/envs/nexo/lib/python3.12/site-packages (0.3.1)\n",
      "Requirement already satisfied: PyYAML in /g/g20/glenrich/miniconda3/envs/nexo/lib/python3.12/site-packages (from python-frontmatter) (6.0.2)\n",
      "Requirement already satisfied: geopy in /g/g20/glenrich/miniconda3/envs/nexo/lib/python3.12/site-packages (from getorg) (2.4.1)\n",
      "Requirement already satisfied: pygithub in /g/g20/glenrich/miniconda3/envs/nexo/lib/python3.12/site-packages (from getorg) (2.6.1)\n",
      "Requirement already satisfied: retrying in /g/g20/glenrich/miniconda3/envs/nexo/lib/python3.12/site-packages (from getorg) (1.4.0)\n",
      "Requirement already satisfied: geographiclib<3,>=1.52 in /g/g20/glenrich/miniconda3/envs/nexo/lib/python3.12/site-packages (from geopy->getorg) (2.0)\n",
      "Requirement already satisfied: pynacl>=1.4.0 in /g/g20/glenrich/miniconda3/envs/nexo/lib/python3.12/site-packages (from pygithub->getorg) (1.5.0)\n",
      "Requirement already satisfied: requests>=2.14.0 in /g/g20/glenrich/miniconda3/envs/nexo/lib/python3.12/site-packages (from pygithub->getorg) (2.32.3)\n",
      "Requirement already satisfied: pyjwt>=2.4.0 in /g/g20/glenrich/miniconda3/envs/nexo/lib/python3.12/site-packages (from pyjwt[crypto]>=2.4.0->pygithub->getorg) (2.10.1)\n",
      "Requirement already satisfied: typing-extensions>=4.0.0 in /g/g20/glenrich/miniconda3/envs/nexo/lib/python3.12/site-packages (from pygithub->getorg) (4.12.2)\n",
      "Requirement already satisfied: urllib3>=1.26.0 in /g/g20/glenrich/miniconda3/envs/nexo/lib/python3.12/site-packages (from pygithub->getorg) (2.3.0)\n",
      "Requirement already satisfied: Deprecated in /g/g20/glenrich/miniconda3/envs/nexo/lib/python3.12/site-packages (from pygithub->getorg) (1.2.18)\n",
      "Requirement already satisfied: cryptography>=3.4.0 in /g/g20/glenrich/miniconda3/envs/nexo/lib/python3.12/site-packages (from pyjwt[crypto]>=2.4.0->pygithub->getorg) (45.0.5)\n",
      "Requirement already satisfied: cffi>=1.4.1 in /g/g20/glenrich/miniconda3/envs/nexo/lib/python3.12/site-packages (from pynacl>=1.4.0->pygithub->getorg) (1.17.1)\n",
      "Requirement already satisfied: charset_normalizer<4,>=2 in /g/g20/glenrich/miniconda3/envs/nexo/lib/python3.12/site-packages (from requests>=2.14.0->pygithub->getorg) (3.4.1)\n",
      "Requirement already satisfied: idna<4,>=2.5 in /g/g20/glenrich/miniconda3/envs/nexo/lib/python3.12/site-packages (from requests>=2.14.0->pygithub->getorg) (3.10)\n",
      "Requirement already satisfied: certifi>=2017.4.17 in /g/g20/glenrich/miniconda3/envs/nexo/lib/python3.12/site-packages (from requests>=2.14.0->pygithub->getorg) (2025.6.15)\n",
      "Requirement already satisfied: wrapt<2,>=1.10 in /g/g20/glenrich/miniconda3/envs/nexo/lib/python3.12/site-packages (from Deprecated->pygithub->getorg) (1.17.2)\n",
      "Requirement already satisfied: pycparser in /g/g20/glenrich/miniconda3/envs/nexo/lib/python3.12/site-packages (from cffi>=1.4.1->pynacl>=1.4.0->pygithub->getorg) (2.22)\n",
      "Iywidgets and ipyleaflet support disabled. You must be in a Jupyter notebook to use this feature.\n",
      "Error raised:\n",
      "No module named 'ipyleaflet'\n",
      "Check that you have enabled ipyleaflet in Jupyter with:\n",
      "    jupyter nbextension enable --py ipyleaflet\n"
     ]
    }
   ],
   "source": [
    "# Start by installing the dependencies\n",
    "!pip install python-frontmatter getorg --upgrade\n",
    "import frontmatter\n",
    "import glob\n",
    "import getorg\n",
    "from geopy import Nominatim\n",
    "from geopy.exc import GeocoderTimedOut"
   ]
  },
  {
   "cell_type": "code",
   "execution_count": 2,
   "metadata": {
    "collapsed": false,
    "execution": {
     "iopub.execute_input": "2025-02-26T03:36:07.936149Z",
     "iopub.status.busy": "2025-02-26T03:36:07.935901Z",
     "iopub.status.idle": "2025-02-26T03:36:07.939314Z",
     "shell.execute_reply": "2025-02-26T03:36:07.938765Z"
    }
   },
   "outputs": [],
   "source": [
    "# Collect the Markdown files\n",
    "g = glob.glob(\"_talks/*.md\")"
   ]
  },
  {
   "cell_type": "code",
   "execution_count": 3,
   "metadata": {
    "collapsed": true,
    "execution": {
     "iopub.execute_input": "2025-02-26T03:36:07.941580Z",
     "iopub.status.busy": "2025-02-26T03:36:07.941049Z",
     "iopub.status.idle": "2025-02-26T03:36:07.966143Z",
     "shell.execute_reply": "2025-02-26T03:36:07.965594Z"
    }
   },
   "outputs": [],
   "source": [
    "# Set the default timeout, in seconds\n",
    "TIMEOUT = 5\n",
    "\n",
    "# Prepare to geolocate\n",
    "geocoder = Nominatim(user_agent=\"academicpages.github.io\")\n",
    "location_dict = {}\n",
    "location = \"\"\n",
    "permalink = \"\"\n",
    "title = \"\""
   ]
  },
  {
   "cell_type": "markdown",
   "metadata": {},
   "source": [
    "In the event that this times out with an error, double check to make sure that the location is can be properly geolocated."
   ]
  },
  {
   "cell_type": "code",
   "execution_count": 4,
   "metadata": {
    "collapsed": false,
    "execution": {
     "iopub.execute_input": "2025-02-26T03:36:07.968167Z",
     "iopub.status.busy": "2025-02-26T03:36:07.967976Z",
     "iopub.status.idle": "2025-02-26T03:36:11.603488Z",
     "shell.execute_reply": "2025-02-26T03:36:11.602744Z"
    }
   },
   "outputs": [
    {
     "name": "stdout",
     "output_type": "stream",
     "text": [
      "Status and Development of nEXO’s Charge Readout System<br />SLAC National Labs; Palo Alto, CA, USA Palo Alto, Santa Clara County, California, United States\n",
      "Solar Neutrino Detection via Charged Current Interactions at the Kilotonne Scale<br />SLAC National Labs; Palo Alto, CA, USA Palo Alto, Santa Clara County, California, United States\n",
      "Simulation of Charge Reconstruction in the nEXO Experiment<br />Hilton New York Times Square; New York, NY, USA City of New York, New York, United States\n",
      "Searching for the Majorana Nature of the Neutrino with nEXO<br />Yale University; New Haven, CT, USA New Haven, South Central Connecticut Planning Region, Connecticut, United States\n",
      "Solar Neutrino Detection with the nEXO Experiment<br />Hilton Waikoloa Village; Waikoloa Village, HI, USA Waikoloa, Hawaiʻi County, Hawaii, United States\n",
      "Status and Development of nEXO’s Charge Readout System<br />SLAC National Labs; Palo Alto, CA, USA Palo Alto, Santa Clara County, California, United States\n",
      "Status and Development of nEXO’s Charge Readout System<br />SLAC National Labs; Palo Alto, CA, USA Palo Alto, Santa Clara County, California, United States\n",
      "Low Energy Structure of \\(^{136}\\)Cs and its Implications for Xenon Based Astroparticle Physics<br />Hilton Boston Park Plaza Hotel; Boston, MA, USA Boston, Suffolk County, Massachusetts, United States\n"
     ]
    }
   ],
   "source": [
    "# Perform geolocation\n",
    "for file in g:\n",
    "    # Read the file\n",
    "    data = frontmatter.load(file)\n",
    "    data = data.to_dict()\n",
    "\n",
    "    # Press on if the location is not present\n",
    "    if 'location' not in data:\n",
    "        continue\n",
    "\n",
    "    # Prepare the description\n",
    "    title = data['title'].strip()\n",
    "    venue = data['venue'].strip()\n",
    "    location = data['location'].strip()\n",
    "    description = f\"{title}<br />{venue}; {location}\"\n",
    "\n",
    "    # Geocode the location and report the status\n",
    "    try:\n",
    "        location_dict[description] = geocoder.geocode(location, timeout=TIMEOUT)\n",
    "        print(description, location_dict[description])\n",
    "    except ValueError as ex:\n",
    "        print(f\"Error: geocode failed on input {location} with message {ex}\")\n",
    "    except GeocoderTimedOut as ex:\n",
    "        print(f\"Error: geocode timed out on input {location} with message {ex}\")\n",
    "    except Exception as ex:\n",
    "        print(f\"An unhandled exception occurred while processing input {location} with message {ex}\")"
   ]
  },
  {
   "cell_type": "code",
   "execution_count": 5,
   "metadata": {
    "collapsed": false,
    "execution": {
     "iopub.execute_input": "2025-02-26T03:36:11.605607Z",
     "iopub.status.busy": "2025-02-26T03:36:11.605411Z",
     "iopub.status.idle": "2025-02-26T03:36:11.613528Z",
     "shell.execute_reply": "2025-02-26T03:36:11.612932Z"
    }
   },
   "outputs": [
    {
     "data": {
      "text/plain": [
       "'Written map to talkmap/'"
      ]
     },
     "execution_count": 5,
     "metadata": {},
     "output_type": "execute_result"
    }
   ],
   "source": [
    "# Save the map\n",
    "m = getorg.orgmap.create_map_obj()\n",
    "getorg.orgmap.output_html_cluster_map(location_dict, folder_name=\"talkmap\", hashed_usernames=False)"
   ]
  }
 ],
 "metadata": {
  "anaconda-cloud": {},
  "kernelspec": {
   "display_name": "nexo",
   "language": "python",
   "name": "python3"
  },
  "language_info": {
   "codemirror_mode": {
    "name": "ipython",
    "version": 3
   },
   "file_extension": ".py",
   "mimetype": "text/x-python",
   "name": "python",
   "nbconvert_exporter": "python",
   "pygments_lexer": "ipython3",
   "version": "3.12.9"
  }
 },
 "nbformat": 4,
 "nbformat_minor": 0
}
